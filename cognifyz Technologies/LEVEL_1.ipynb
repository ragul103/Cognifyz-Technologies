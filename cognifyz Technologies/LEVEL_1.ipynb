{
 "cells": [
  {
   "cell_type": "markdown",
   "id": "27006d34-eaa3-4142-882c-ff2e10a88775",
   "metadata": {},
   "source": [
    "LEVEL 1"
   ]
  },
  {
   "cell_type": "code",
   "execution_count": 1,
   "id": "3a23afd9-f553-4001-ad28-99dc0561bc94",
   "metadata": {},
   "outputs": [],
   "source": [
    "import pandas as pd"
   ]
  },
  {
   "cell_type": "code",
   "execution_count": 2,
   "id": "a1af2b53-80e7-4eb7-953b-f228edc56551",
   "metadata": {},
   "outputs": [
    {
     "data": {
      "text/html": [
       "<div>\n",
       "<style scoped>\n",
       "    .dataframe tbody tr th:only-of-type {\n",
       "        vertical-align: middle;\n",
       "    }\n",
       "\n",
       "    .dataframe tbody tr th {\n",
       "        vertical-align: top;\n",
       "    }\n",
       "\n",
       "    .dataframe thead th {\n",
       "        text-align: right;\n",
       "    }\n",
       "</style>\n",
       "<table border=\"1\" class=\"dataframe\">\n",
       "  <thead>\n",
       "    <tr style=\"text-align: right;\">\n",
       "      <th></th>\n",
       "      <th>Restaurant ID</th>\n",
       "      <th>Restaurant Name</th>\n",
       "      <th>Country Code</th>\n",
       "      <th>City</th>\n",
       "      <th>Address</th>\n",
       "      <th>Locality</th>\n",
       "      <th>Locality Verbose</th>\n",
       "      <th>Longitude</th>\n",
       "      <th>Latitude</th>\n",
       "      <th>Cuisines</th>\n",
       "      <th>...</th>\n",
       "      <th>Currency</th>\n",
       "      <th>Has Table booking</th>\n",
       "      <th>Has Online delivery</th>\n",
       "      <th>Is delivering now</th>\n",
       "      <th>Switch to order menu</th>\n",
       "      <th>Price range</th>\n",
       "      <th>Aggregate rating</th>\n",
       "      <th>Rating color</th>\n",
       "      <th>Rating text</th>\n",
       "      <th>Votes</th>\n",
       "    </tr>\n",
       "  </thead>\n",
       "  <tbody>\n",
       "    <tr>\n",
       "      <th>0</th>\n",
       "      <td>6317637</td>\n",
       "      <td>Le Petit Souffle</td>\n",
       "      <td>162</td>\n",
       "      <td>Makati City</td>\n",
       "      <td>Third Floor, Century City Mall, Kalayaan Avenu...</td>\n",
       "      <td>Century City Mall, Poblacion, Makati City</td>\n",
       "      <td>Century City Mall, Poblacion, Makati City, Mak...</td>\n",
       "      <td>121.027535</td>\n",
       "      <td>14.565443</td>\n",
       "      <td>French, Japanese, Desserts</td>\n",
       "      <td>...</td>\n",
       "      <td>Botswana Pula(P)</td>\n",
       "      <td>Yes</td>\n",
       "      <td>No</td>\n",
       "      <td>No</td>\n",
       "      <td>No</td>\n",
       "      <td>3</td>\n",
       "      <td>4.8</td>\n",
       "      <td>Dark Green</td>\n",
       "      <td>Excellent</td>\n",
       "      <td>314</td>\n",
       "    </tr>\n",
       "    <tr>\n",
       "      <th>1</th>\n",
       "      <td>6304287</td>\n",
       "      <td>Izakaya Kikufuji</td>\n",
       "      <td>162</td>\n",
       "      <td>Makati City</td>\n",
       "      <td>Little Tokyo, 2277 Chino Roces Avenue, Legaspi...</td>\n",
       "      <td>Little Tokyo, Legaspi Village, Makati City</td>\n",
       "      <td>Little Tokyo, Legaspi Village, Makati City, Ma...</td>\n",
       "      <td>121.014101</td>\n",
       "      <td>14.553708</td>\n",
       "      <td>Japanese</td>\n",
       "      <td>...</td>\n",
       "      <td>Botswana Pula(P)</td>\n",
       "      <td>Yes</td>\n",
       "      <td>No</td>\n",
       "      <td>No</td>\n",
       "      <td>No</td>\n",
       "      <td>3</td>\n",
       "      <td>4.5</td>\n",
       "      <td>Dark Green</td>\n",
       "      <td>Excellent</td>\n",
       "      <td>591</td>\n",
       "    </tr>\n",
       "    <tr>\n",
       "      <th>2</th>\n",
       "      <td>6300002</td>\n",
       "      <td>Heat - Edsa Shangri-La</td>\n",
       "      <td>162</td>\n",
       "      <td>Mandaluyong City</td>\n",
       "      <td>Edsa Shangri-La, 1 Garden Way, Ortigas, Mandal...</td>\n",
       "      <td>Edsa Shangri-La, Ortigas, Mandaluyong City</td>\n",
       "      <td>Edsa Shangri-La, Ortigas, Mandaluyong City, Ma...</td>\n",
       "      <td>121.056831</td>\n",
       "      <td>14.581404</td>\n",
       "      <td>Seafood, Asian, Filipino, Indian</td>\n",
       "      <td>...</td>\n",
       "      <td>Botswana Pula(P)</td>\n",
       "      <td>Yes</td>\n",
       "      <td>No</td>\n",
       "      <td>No</td>\n",
       "      <td>No</td>\n",
       "      <td>4</td>\n",
       "      <td>4.4</td>\n",
       "      <td>Green</td>\n",
       "      <td>Very Good</td>\n",
       "      <td>270</td>\n",
       "    </tr>\n",
       "    <tr>\n",
       "      <th>3</th>\n",
       "      <td>6318506</td>\n",
       "      <td>Ooma</td>\n",
       "      <td>162</td>\n",
       "      <td>Mandaluyong City</td>\n",
       "      <td>Third Floor, Mega Fashion Hall, SM Megamall, O...</td>\n",
       "      <td>SM Megamall, Ortigas, Mandaluyong City</td>\n",
       "      <td>SM Megamall, Ortigas, Mandaluyong City, Mandal...</td>\n",
       "      <td>121.056475</td>\n",
       "      <td>14.585318</td>\n",
       "      <td>Japanese, Sushi</td>\n",
       "      <td>...</td>\n",
       "      <td>Botswana Pula(P)</td>\n",
       "      <td>No</td>\n",
       "      <td>No</td>\n",
       "      <td>No</td>\n",
       "      <td>No</td>\n",
       "      <td>4</td>\n",
       "      <td>4.9</td>\n",
       "      <td>Dark Green</td>\n",
       "      <td>Excellent</td>\n",
       "      <td>365</td>\n",
       "    </tr>\n",
       "    <tr>\n",
       "      <th>4</th>\n",
       "      <td>6314302</td>\n",
       "      <td>Sambo Kojin</td>\n",
       "      <td>162</td>\n",
       "      <td>Mandaluyong City</td>\n",
       "      <td>Third Floor, Mega Atrium, SM Megamall, Ortigas...</td>\n",
       "      <td>SM Megamall, Ortigas, Mandaluyong City</td>\n",
       "      <td>SM Megamall, Ortigas, Mandaluyong City, Mandal...</td>\n",
       "      <td>121.057508</td>\n",
       "      <td>14.584450</td>\n",
       "      <td>Japanese, Korean</td>\n",
       "      <td>...</td>\n",
       "      <td>Botswana Pula(P)</td>\n",
       "      <td>Yes</td>\n",
       "      <td>No</td>\n",
       "      <td>No</td>\n",
       "      <td>No</td>\n",
       "      <td>4</td>\n",
       "      <td>4.8</td>\n",
       "      <td>Dark Green</td>\n",
       "      <td>Excellent</td>\n",
       "      <td>229</td>\n",
       "    </tr>\n",
       "  </tbody>\n",
       "</table>\n",
       "<p>5 rows × 21 columns</p>\n",
       "</div>"
      ],
      "text/plain": [
       "   Restaurant ID         Restaurant Name  Country Code              City  \\\n",
       "0        6317637        Le Petit Souffle           162       Makati City   \n",
       "1        6304287        Izakaya Kikufuji           162       Makati City   \n",
       "2        6300002  Heat - Edsa Shangri-La           162  Mandaluyong City   \n",
       "3        6318506                    Ooma           162  Mandaluyong City   \n",
       "4        6314302             Sambo Kojin           162  Mandaluyong City   \n",
       "\n",
       "                                             Address  \\\n",
       "0  Third Floor, Century City Mall, Kalayaan Avenu...   \n",
       "1  Little Tokyo, 2277 Chino Roces Avenue, Legaspi...   \n",
       "2  Edsa Shangri-La, 1 Garden Way, Ortigas, Mandal...   \n",
       "3  Third Floor, Mega Fashion Hall, SM Megamall, O...   \n",
       "4  Third Floor, Mega Atrium, SM Megamall, Ortigas...   \n",
       "\n",
       "                                     Locality  \\\n",
       "0   Century City Mall, Poblacion, Makati City   \n",
       "1  Little Tokyo, Legaspi Village, Makati City   \n",
       "2  Edsa Shangri-La, Ortigas, Mandaluyong City   \n",
       "3      SM Megamall, Ortigas, Mandaluyong City   \n",
       "4      SM Megamall, Ortigas, Mandaluyong City   \n",
       "\n",
       "                                    Locality Verbose   Longitude   Latitude  \\\n",
       "0  Century City Mall, Poblacion, Makati City, Mak...  121.027535  14.565443   \n",
       "1  Little Tokyo, Legaspi Village, Makati City, Ma...  121.014101  14.553708   \n",
       "2  Edsa Shangri-La, Ortigas, Mandaluyong City, Ma...  121.056831  14.581404   \n",
       "3  SM Megamall, Ortigas, Mandaluyong City, Mandal...  121.056475  14.585318   \n",
       "4  SM Megamall, Ortigas, Mandaluyong City, Mandal...  121.057508  14.584450   \n",
       "\n",
       "                           Cuisines  ...          Currency Has Table booking  \\\n",
       "0        French, Japanese, Desserts  ...  Botswana Pula(P)               Yes   \n",
       "1                          Japanese  ...  Botswana Pula(P)               Yes   \n",
       "2  Seafood, Asian, Filipino, Indian  ...  Botswana Pula(P)               Yes   \n",
       "3                   Japanese, Sushi  ...  Botswana Pula(P)                No   \n",
       "4                  Japanese, Korean  ...  Botswana Pula(P)               Yes   \n",
       "\n",
       "  Has Online delivery Is delivering now Switch to order menu Price range  \\\n",
       "0                  No                No                   No           3   \n",
       "1                  No                No                   No           3   \n",
       "2                  No                No                   No           4   \n",
       "3                  No                No                   No           4   \n",
       "4                  No                No                   No           4   \n",
       "\n",
       "   Aggregate rating  Rating color Rating text Votes  \n",
       "0               4.8    Dark Green   Excellent   314  \n",
       "1               4.5    Dark Green   Excellent   591  \n",
       "2               4.4         Green   Very Good   270  \n",
       "3               4.9    Dark Green   Excellent   365  \n",
       "4               4.8    Dark Green   Excellent   229  \n",
       "\n",
       "[5 rows x 21 columns]"
      ]
     },
     "execution_count": 2,
     "metadata": {},
     "output_type": "execute_result"
    }
   ],
   "source": [
    "df=pd.read_csv(\"Dataset .csv\")\n",
    "df.head()"
   ]
  },
  {
   "cell_type": "code",
   "execution_count": 3,
   "id": "61f1b61f-7731-4755-8f5d-c7eefdc56562",
   "metadata": {},
   "outputs": [
    {
     "name": "stdout",
     "output_type": "stream",
     "text": [
      "<class 'pandas.core.frame.DataFrame'>\n",
      "RangeIndex: 9551 entries, 0 to 9550\n",
      "Data columns (total 21 columns):\n",
      " #   Column                Non-Null Count  Dtype  \n",
      "---  ------                --------------  -----  \n",
      " 0   Restaurant ID         9551 non-null   int64  \n",
      " 1   Restaurant Name       9551 non-null   object \n",
      " 2   Country Code          9551 non-null   int64  \n",
      " 3   City                  9551 non-null   object \n",
      " 4   Address               9551 non-null   object \n",
      " 5   Locality              9551 non-null   object \n",
      " 6   Locality Verbose      9551 non-null   object \n",
      " 7   Longitude             9551 non-null   float64\n",
      " 8   Latitude              9551 non-null   float64\n",
      " 9   Cuisines              9551 non-null   object \n",
      " 10  Average Cost for two  9551 non-null   int64  \n",
      " 11  Currency              9551 non-null   object \n",
      " 12  Has Table booking     9551 non-null   object \n",
      " 13  Has Online delivery   9551 non-null   object \n",
      " 14  Is delivering now     9551 non-null   object \n",
      " 15  Switch to order menu  9551 non-null   object \n",
      " 16  Price range           9551 non-null   int64  \n",
      " 17  Aggregate rating      9551 non-null   float64\n",
      " 18  Rating color          9551 non-null   object \n",
      " 19  Rating text           9551 non-null   object \n",
      " 20  Votes                 9551 non-null   int64  \n",
      "dtypes: float64(3), int64(5), object(13)\n",
      "memory usage: 1.5+ MB\n",
      "Initial Data Informatioon: None\n"
     ]
    }
   ],
   "source": [
    "print(\"Initial Data Informatioon:\",df.info())"
   ]
  },
  {
   "cell_type": "code",
   "execution_count": 4,
   "id": "cb310a50-4826-4126-825e-1c9c2a42d7a5",
   "metadata": {},
   "outputs": [],
   "source": [
    "df_cleaned=df.drop_duplicates()\n",
    "df_cleaned.fillna('unknown',inplace=True)"
   ]
  },
  {
   "cell_type": "code",
   "execution_count": 5,
   "id": "4856fb0c-d93b-49eb-90ea-6dd81240079c",
   "metadata": {},
   "outputs": [
    {
     "data": {
      "text/plain": [
       "Series([], dtype: int64)"
      ]
     },
     "execution_count": 5,
     "metadata": {},
     "output_type": "execute_result"
    }
   ],
   "source": [
    "missing_values_after=df_cleaned.isnull().sum()\n",
    "missings_values_after_summary=missing_values_after[missing_values_after >0]\n",
    "missings_values_after_summary"
   ]
  },
  {
   "cell_type": "code",
   "execution_count": 6,
   "id": "3aa14dca-b626-46f2-8768-2337f2453a59",
   "metadata": {},
   "outputs": [
    {
     "data": {
      "text/plain": [
       "0"
      ]
     },
     "execution_count": 6,
     "metadata": {},
     "output_type": "execute_result"
    }
   ],
   "source": [
    "duplicates_after_cleaning=df_cleaned.duplicated().sum()\n",
    "duplicates_after_cleaning"
   ]
  },
  {
   "cell_type": "code",
   "execution_count": 7,
   "id": "3893b831-cd46-494a-a3e6-9f00c66e69d5",
   "metadata": {},
   "outputs": [],
   "source": [
    "df_cleaned.to_csv(\"Dataset .csv\",index=False)"
   ]
  },
  {
   "cell_type": "markdown",
   "id": "6aaa18f5-1550-42b2-ba7d-93c20ccd96fd",
   "metadata": {},
   "source": [
    "                                                          Task 1: Top Cuisines"
   ]
  },
  {
   "cell_type": "code",
   "execution_count": 8,
   "id": "44b2d40a-d065-4842-a350-f0c4ff37178a",
   "metadata": {},
   "outputs": [],
   "source": [
    "df=pd.read_csv(\"Dataset .csv\")"
   ]
  },
  {
   "cell_type": "code",
   "execution_count": 9,
   "id": "7e3aa1d1-c25a-4f02-b40b-a5ce91ee21d8",
   "metadata": {},
   "outputs": [
    {
     "data": {
      "text/plain": [
       "Cuisines\n",
       "North Indian                                             936\n",
       "North Indian, Chinese                                    511\n",
       "Chinese                                                  354\n",
       "Fast Food                                                354\n",
       "North Indian, Mughlai                                    334\n",
       "                                                        ... \n",
       "Bengali, Fast Food                                         1\n",
       "North Indian, Rajasthani, Asian                            1\n",
       "Chinese, Thai, Malaysian, Indonesian                       1\n",
       "Bakery, Desserts, North Indian, Bengali, South Indian      1\n",
       "Italian, World Cuisine                                     1\n",
       "Name: count, Length: 1826, dtype: int64"
      ]
     },
     "execution_count": 9,
     "metadata": {},
     "output_type": "execute_result"
    }
   ],
   "source": [
    "cuisine_counts=df['Cuisines'].value_counts()\n",
    "cuisine_counts"
   ]
  },
  {
   "cell_type": "code",
   "execution_count": 10,
   "id": "e8ff121b-face-42f7-81ad-664e5373f315",
   "metadata": {},
   "outputs": [],
   "source": [
    "top_cuisine=cuisine_counts.head(3)"
   ]
  },
  {
   "cell_type": "code",
   "execution_count": 11,
   "id": "8db993ef-ea71-45d8-b125-5ae2849ab807",
   "metadata": {},
   "outputs": [],
   "source": [
    "top=len(df)"
   ]
  },
  {
   "cell_type": "code",
   "execution_count": 12,
   "id": "36509b84-c70e-4a5e-8f40-68b49040629b",
   "metadata": {},
   "outputs": [],
   "source": [
    "percentage=(top_cuisine/top)*100"
   ]
  },
  {
   "cell_type": "code",
   "execution_count": 13,
   "id": "adda7ce7-7871-4182-982e-d5371c50b195",
   "metadata": {},
   "outputs": [
    {
     "name": "stdout",
     "output_type": "stream",
     "text": [
      "top_cuisine: Cuisines\n",
      "North Indian             936\n",
      "North Indian, Chinese    511\n",
      "Chinese                  354\n",
      "Name: count, dtype: int64\n"
     ]
    }
   ],
   "source": [
    "print(\"top_cuisine:\",top_cuisine)"
   ]
  },
  {
   "cell_type": "code",
   "execution_count": 14,
   "id": "cd7e5c07-5bed-494a-bb2d-56bbb6bff3d0",
   "metadata": {},
   "outputs": [
    {
     "name": "stdout",
     "output_type": "stream",
     "text": [
      "percentage of restaurant: Cuisines\n",
      "North Indian             9.800021\n",
      "North Indian, Chinese    5.350225\n",
      "Chinese                  3.706418\n",
      "Name: count, dtype: float64\n"
     ]
    }
   ],
   "source": [
    "print(\"percentage of restaurant:\",percentage)"
   ]
  },
  {
   "cell_type": "markdown",
   "id": "b4b993da-cdb2-4810-af7c-eecc8676ba2b",
   "metadata": {},
   "source": [
    "                                                         Task 2: City Analysis"
   ]
  },
  {
   "cell_type": "code",
   "execution_count": 15,
   "id": "19d8c182-3bef-42e6-a547-e0f1dea9e4cd",
   "metadata": {},
   "outputs": [
    {
     "data": {
      "text/plain": [
       "'New Delhi'"
      ]
     },
     "execution_count": 15,
     "metadata": {},
     "output_type": "execute_result"
    }
   ],
   "source": [
    "city_restaurants=df['City'].value_counts().idxmax()\n",
    "city_restaurants"
   ]
  },
  {
   "cell_type": "code",
   "execution_count": 16,
   "id": "44ab566f-83eb-404e-b710-0fc20926a462",
   "metadata": {},
   "outputs": [
    {
     "data": {
      "text/plain": [
       "5473"
      ]
     },
     "execution_count": 16,
     "metadata": {},
     "output_type": "execute_result"
    }
   ],
   "source": [
    "num_restaurants=df['City'].value_counts().max()\n",
    "num_restaurants"
   ]
  },
  {
   "cell_type": "code",
   "execution_count": 17,
   "id": "d929dc9c-667d-40a4-abf5-1132ec16b9e9",
   "metadata": {},
   "outputs": [
    {
     "name": "stdout",
     "output_type": "stream",
     "text": [
      "The city with the highest number of restaurants is: New Delhi with 5473 restaurnats.\n"
     ]
    }
   ],
   "source": [
    "print(f\"The city with the highest number of restaurants is: {city_restaurants} with {num_restaurants} restaurnats.\")"
   ]
  },
  {
   "cell_type": "code",
   "execution_count": 18,
   "id": "42d20ee6-65c3-4642-b170-8830e1f6fcd4",
   "metadata": {},
   "outputs": [
    {
     "data": {
      "text/plain": [
       "City\n",
       "Abu Dhabi          4.300000\n",
       "Agra               3.965000\n",
       "Ahmedabad          4.161905\n",
       "Albany             3.555000\n",
       "Allahabad          3.395000\n",
       "                     ...   \n",
       "Weirton            3.900000\n",
       "Wellington City    4.250000\n",
       "Winchester Bay     3.200000\n",
       "Yorkton            3.300000\n",
       "��stanbul          4.292857\n",
       "Name: Aggregate rating, Length: 141, dtype: float64"
      ]
     },
     "execution_count": 18,
     "metadata": {},
     "output_type": "execute_result"
    }
   ],
   "source": [
    "average_rating=df.groupby('City')['Aggregate rating'].mean()\n",
    "average_rating"
   ]
  },
  {
   "cell_type": "code",
   "execution_count": 19,
   "id": "7a18ed44-ea7f-437e-a536-546a48018d01",
   "metadata": {},
   "outputs": [
    {
     "data": {
      "text/plain": [
       "'Inner City'"
      ]
     },
     "execution_count": 19,
     "metadata": {},
     "output_type": "execute_result"
    }
   ],
   "source": [
    "city_highest_average_rating=average_rating.idxmax()\n",
    "city_highest_average_rating"
   ]
  },
  {
   "cell_type": "code",
   "execution_count": 20,
   "id": "77465277-3fe0-437f-8312-9fce44a4a8c0",
   "metadata": {},
   "outputs": [
    {
     "data": {
      "text/plain": [
       "4.9"
      ]
     },
     "execution_count": 20,
     "metadata": {},
     "output_type": "execute_result"
    }
   ],
   "source": [
    "highest_average_rating=average_rating.max()\n",
    "highest_average_rating"
   ]
  },
  {
   "cell_type": "code",
   "execution_count": 21,
   "id": "20101887-4540-428e-a11a-d55a4b7c0359",
   "metadata": {},
   "outputs": [
    {
     "name": "stdout",
     "output_type": "stream",
     "text": [
      "the city wtih the highest average rating is: Inner City with an average rating of 4.90.\n"
     ]
    }
   ],
   "source": [
    "print(f\"the city wtih the highest average rating is: {city_highest_average_rating} with an average rating of {highest_average_rating:.2f}.\")"
   ]
  },
  {
   "cell_type": "markdown",
   "id": "9e273059-15be-4349-8ce2-b5d18af841da",
   "metadata": {},
   "source": [
    "                                                  Task 3: Price Range Distribution"
   ]
  },
  {
   "cell_type": "code",
   "execution_count": 22,
   "id": "8ae4affe-f315-4e9a-ae22-26c94925f5c9",
   "metadata": {},
   "outputs": [],
   "source": [
    "import matplotlib.pyplot as plt"
   ]
  },
  {
   "cell_type": "code",
   "execution_count": 23,
   "id": "53b8ccce-1076-49b5-b8d8-5c27441b5927",
   "metadata": {},
   "outputs": [
    {
     "data": {
      "text/plain": [
       "0       3\n",
       "1       3\n",
       "2       4\n",
       "3       4\n",
       "4       4\n",
       "       ..\n",
       "9546    3\n",
       "9547    3\n",
       "9548    4\n",
       "9549    4\n",
       "9550    2\n",
       "Name: Price range, Length: 9551, dtype: object"
      ]
     },
     "execution_count": 23,
     "metadata": {},
     "output_type": "execute_result"
    }
   ],
   "source": [
    "df['Price range']=df['Price range'].astype(str)\n",
    "df['Price range']"
   ]
  },
  {
   "cell_type": "code",
   "execution_count": 24,
   "id": "c39d7ef0-3e5f-4222-b080-a2a4d0adeb36",
   "metadata": {},
   "outputs": [],
   "source": [
    "price_categories=df['Price range'].value_counts().sort_index()\n",
    "total_restaurants=len(df)"
   ]
  },
  {
   "cell_type": "code",
   "execution_count": 25,
   "id": "ac2f74f2-1f5a-4114-8a95-fe7ca138c45b",
   "metadata": {},
   "outputs": [
    {
     "data": {
      "text/plain": [
       "Price range\n",
       "1    46.529159\n",
       "2    32.593446\n",
       "3    14.741912\n",
       "4     6.135483\n",
       "Name: count, dtype: float64"
      ]
     },
     "execution_count": 25,
     "metadata": {},
     "output_type": "execute_result"
    }
   ],
   "source": [
    "price_percentages=(price_categories/total_restaurants)*100\n",
    "price_percentages"
   ]
  },
  {
   "cell_type": "code",
   "execution_count": 26,
   "id": "3b18566d-9dcb-4676-9686-dacb7d169f36",
   "metadata": {},
   "outputs": [
    {
     "data": {
      "image/png": "[encoded data removed]",
      "text/plain": [
       "<Figure size 1000x600 with 1 Axes>"
      ]
     },
     "metadata": {},
     "output_type": "display_data"
    }
   ],
   "source": [
    "plt.figure(figsize=(10,6))\n",
    "price_categories.plot(kind='bar',color='skyblue',alpha=0.7)\n",
    "plt.title('Distribution of Price Ranges Among restaurants')\n",
    "plt.xlabel('Price Range')\n",
    "plt.ylabel('Number of Restaurnats')\n",
    "plt.xticks(rotation=0)\n",
    "plt.show()"
   ]
  },
  {
   "cell_type": "code",
   "execution_count": 27,
   "id": "9457f577-211c-4457-83b4-e5e0f6596c07",
   "metadata": {},
   "outputs": [
    {
     "name": "stdout",
     "output_type": "stream",
     "text": [
      "percentage of restaurnats in each price range category: Price range\n",
      "1    46.529159\n",
      "2    32.593446\n",
      "3    14.741912\n",
      "4     6.135483\n",
      "Name: count, dtype: float64\n"
     ]
    }
   ],
   "source": [
    "print(\"percentage of restaurnats in each price range category:\",price_percentages)"
   ]
  },
  {
   "cell_type": "markdown",
   "id": "13ced70a-483c-436c-a778-6cc5a0b0318b",
   "metadata": {},
   "source": [
    "                                                        Task 4: Online Delivery"
   ]
  },
  {
   "cell_type": "code",
   "execution_count": 28,
   "id": "381e1514-32b6-49e0-afcb-453661bae604",
   "metadata": {},
   "outputs": [
    {
     "data": {
      "text/plain": [
       "Has Online delivery\n",
       "No     7100\n",
       "Yes    2451\n",
       "Name: count, dtype: int64"
      ]
     },
     "execution_count": 28,
     "metadata": {},
     "output_type": "execute_result"
    }
   ],
   "source": [
    "online_delivery_counts=df['Has Online delivery'].value_counts()\n",
    "online_delivery_counts"
   ]
  },
  {
   "cell_type": "code",
   "execution_count": 29,
   "id": "1db16bc0-c32e-49c5-92a8-a5bee8d09380",
   "metadata": {},
   "outputs": [
    {
     "data": {
      "text/plain": [
       "9551"
      ]
     },
     "execution_count": 29,
     "metadata": {},
     "output_type": "execute_result"
    }
   ],
   "source": [
    "total_restaurants=len(df)\n",
    "total_restaurants"
   ]
  },
  {
   "cell_type": "code",
   "execution_count": 30,
   "id": "15efd127-c8e8-4651-bc7d-66c68aad7125",
   "metadata": {},
   "outputs": [
    {
     "data": {
      "text/plain": [
       "25.662234321013504"
      ]
     },
     "execution_count": 30,
     "metadata": {},
     "output_type": "execute_result"
    }
   ],
   "source": [
    "online_delivery_percentage=(online_delivery_counts['Yes']/total_restaurants)*100\n",
    "online_delivery_percentage"
   ]
  },
  {
   "cell_type": "code",
   "execution_count": 31,
   "id": "9110b35a-8633-4ae2-a12d-a1c6d305ba1f",
   "metadata": {},
   "outputs": [
    {
     "data": {
      "text/plain": [
       "3.2488372093023257"
      ]
     },
     "execution_count": 31,
     "metadata": {},
     "output_type": "execute_result"
    }
   ],
   "source": [
    "average_rating_online_delivery=df[df['Has Online delivery']=='Yes']['Aggregate rating'].mean()\n",
    "average_rating_online_delivery"
   ]
  },
  {
   "cell_type": "code",
   "execution_count": 32,
   "id": "b44193ae-ea2d-47dd-ac3d-bd29c0017db4",
   "metadata": {},
   "outputs": [
    {
     "data": {
      "text/plain": [
       "2.465295774647887"
      ]
     },
     "execution_count": 32,
     "metadata": {},
     "output_type": "execute_result"
    }
   ],
   "source": [
    "average_rating_no_online_delivery=df[df['Has Online delivery']=='No']['Aggregate rating'].mean()\n",
    "average_rating_no_online_delivery"
   ]
  },
  {
   "cell_type": "code",
   "execution_count": 33,
   "id": "12f517a5-e148-4e25-a551-3f4b91fad83e",
   "metadata": {},
   "outputs": [
    {
     "name": "stdout",
     "output_type": "stream",
     "text": [
      "Percentage of restaurants that offer online delivery: 25.662234%\n",
      "Average rating of restaurants with online delivery: 3.25%\n",
      "Average rating of restaurants with no online delivery: 2.47\n"
     ]
    }
   ],
   "source": [
    "print(f\"Percentage of restaurants that offer online delivery: {online_delivery_percentage:2f}%\")\n",
    "print(f\"Average rating of restaurants with online delivery: {average_rating_online_delivery:.2f}%\")\n",
    "print(f\"Average rating of restaurants with no online delivery: {average_rating_no_online_delivery:.2f}\")"
   ]
  },
  {
   "cell_type": "code",
   "execution_count": null,
   "id": "3fc81d86-fa9a-40fc-90bb-4bd2c2bc4882",
   "metadata": {},
   "outputs": [],
   "source": []
  }
 ],
 "metadata": {
  "kernelspec": {
   "display_name": "Python 3 (ipykernel)",
   "language": "python",
   "name": "python3"
  },
  "language_info": {
   "codemirror_mode": {
    "name": "ipython",
    "version": 3
   },
   "file_extension": ".py",
   "mimetype": "text/x-python",
   "name": "python",
   "nbconvert_exporter": "python",
   "pygments_lexer": "ipython3",
   "version": "3.12.2"
  }
 },
 "nbformat": 4,
 "nbformat_minor": 5
}
