{
 "cells": [
  {
   "cell_type": "markdown",
   "id": "728eba71-7fdb-44f9-99be-d6549f8fc170",
   "metadata": {},
   "source": [
    "LEVEL 3"
   ]
  },
  {
   "cell_type": "code",
   "execution_count": 47,
   "id": "d4f4f6b8-d75f-4bed-bf9e-f5c902c4ab14",
   "metadata": {},
   "outputs": [],
   "source": [
    "import pandas as pd"
   ]
  },
  {
   "cell_type": "code",
   "execution_count": 48,
   "id": "9d593325-0671-4914-a6b6-f3d710cdb089",
   "metadata": {},
   "outputs": [
    {
     "data": {
      "text/html": [
       "<div>\n",
       "<style scoped>\n",
       "    .dataframe tbody tr th:only-of-type {\n",
       "        vertical-align: middle;\n",
       "    }\n",
       "\n",
       "    .dataframe tbody tr th {\n",
       "        vertical-align: top;\n",
       "    }\n",
       "\n",
       "    .dataframe thead th {\n",
       "        text-align: right;\n",
       "    }\n",
       "</style>\n",
       "<table border=\"1\" class=\"dataframe\">\n",
       "  <thead>\n",
       "    <tr style=\"text-align: right;\">\n",
       "      <th></th>\n",
       "      <th>Restaurant ID</th>\n",
       "      <th>Restaurant Name</th>\n",
       "      <th>Country Code</th>\n",
       "      <th>City</th>\n",
       "      <th>Address</th>\n",
       "      <th>Locality</th>\n",
       "      <th>Locality Verbose</th>\n",
       "      <th>Longitude</th>\n",
       "      <th>Latitude</th>\n",
       "      <th>Cuisines</th>\n",
       "      <th>...</th>\n",
       "      <th>Currency</th>\n",
       "      <th>Has Table booking</th>\n",
       "      <th>Has Online delivery</th>\n",
       "      <th>Is delivering now</th>\n",
       "      <th>Switch to order menu</th>\n",
       "      <th>Price range</th>\n",
       "      <th>Aggregate rating</th>\n",
       "      <th>Rating color</th>\n",
       "      <th>Rating text</th>\n",
       "      <th>Votes</th>\n",
       "    </tr>\n",
       "  </thead>\n",
       "  <tbody>\n",
       "    <tr>\n",
       "      <th>0</th>\n",
       "      <td>6317637</td>\n",
       "      <td>Le Petit Souffle</td>\n",
       "      <td>162</td>\n",
       "      <td>Makati City</td>\n",
       "      <td>Third Floor, Century City Mall, Kalayaan Avenu...</td>\n",
       "      <td>Century City Mall, Poblacion, Makati City</td>\n",
       "      <td>Century City Mall, Poblacion, Makati City, Mak...</td>\n",
       "      <td>121.027535</td>\n",
       "      <td>14.565443</td>\n",
       "      <td>French, Japanese, Desserts</td>\n",
       "      <td>...</td>\n",
       "      <td>Botswana Pula(P)</td>\n",
       "      <td>Yes</td>\n",
       "      <td>No</td>\n",
       "      <td>No</td>\n",
       "      <td>No</td>\n",
       "      <td>3</td>\n",
       "      <td>4.8</td>\n",
       "      <td>Dark Green</td>\n",
       "      <td>Excellent</td>\n",
       "      <td>314</td>\n",
       "    </tr>\n",
       "    <tr>\n",
       "      <th>1</th>\n",
       "      <td>6304287</td>\n",
       "      <td>Izakaya Kikufuji</td>\n",
       "      <td>162</td>\n",
       "      <td>Makati City</td>\n",
       "      <td>Little Tokyo, 2277 Chino Roces Avenue, Legaspi...</td>\n",
       "      <td>Little Tokyo, Legaspi Village, Makati City</td>\n",
       "      <td>Little Tokyo, Legaspi Village, Makati City, Ma...</td>\n",
       "      <td>121.014101</td>\n",
       "      <td>14.553708</td>\n",
       "      <td>Japanese</td>\n",
       "      <td>...</td>\n",
       "      <td>Botswana Pula(P)</td>\n",
       "      <td>Yes</td>\n",
       "      <td>No</td>\n",
       "      <td>No</td>\n",
       "      <td>No</td>\n",
       "      <td>3</td>\n",
       "      <td>4.5</td>\n",
       "      <td>Dark Green</td>\n",
       "      <td>Excellent</td>\n",
       "      <td>591</td>\n",
       "    </tr>\n",
       "    <tr>\n",
       "      <th>2</th>\n",
       "      <td>6300002</td>\n",
       "      <td>Heat - Edsa Shangri-La</td>\n",
       "      <td>162</td>\n",
       "      <td>Mandaluyong City</td>\n",
       "      <td>Edsa Shangri-La, 1 Garden Way, Ortigas, Mandal...</td>\n",
       "      <td>Edsa Shangri-La, Ortigas, Mandaluyong City</td>\n",
       "      <td>Edsa Shangri-La, Ortigas, Mandaluyong City, Ma...</td>\n",
       "      <td>121.056831</td>\n",
       "      <td>14.581404</td>\n",
       "      <td>Seafood, Asian, Filipino, Indian</td>\n",
       "      <td>...</td>\n",
       "      <td>Botswana Pula(P)</td>\n",
       "      <td>Yes</td>\n",
       "      <td>No</td>\n",
       "      <td>No</td>\n",
       "      <td>No</td>\n",
       "      <td>4</td>\n",
       "      <td>4.4</td>\n",
       "      <td>Green</td>\n",
       "      <td>Very Good</td>\n",
       "      <td>270</td>\n",
       "    </tr>\n",
       "    <tr>\n",
       "      <th>3</th>\n",
       "      <td>6318506</td>\n",
       "      <td>Ooma</td>\n",
       "      <td>162</td>\n",
       "      <td>Mandaluyong City</td>\n",
       "      <td>Third Floor, Mega Fashion Hall, SM Megamall, O...</td>\n",
       "      <td>SM Megamall, Ortigas, Mandaluyong City</td>\n",
       "      <td>SM Megamall, Ortigas, Mandaluyong City, Mandal...</td>\n",
       "      <td>121.056475</td>\n",
       "      <td>14.585318</td>\n",
       "      <td>Japanese, Sushi</td>\n",
       "      <td>...</td>\n",
       "      <td>Botswana Pula(P)</td>\n",
       "      <td>No</td>\n",
       "      <td>No</td>\n",
       "      <td>No</td>\n",
       "      <td>No</td>\n",
       "      <td>4</td>\n",
       "      <td>4.9</td>\n",
       "      <td>Dark Green</td>\n",
       "      <td>Excellent</td>\n",
       "      <td>365</td>\n",
       "    </tr>\n",
       "    <tr>\n",
       "      <th>4</th>\n",
       "      <td>6314302</td>\n",
       "      <td>Sambo Kojin</td>\n",
       "      <td>162</td>\n",
       "      <td>Mandaluyong City</td>\n",
       "      <td>Third Floor, Mega Atrium, SM Megamall, Ortigas...</td>\n",
       "      <td>SM Megamall, Ortigas, Mandaluyong City</td>\n",
       "      <td>SM Megamall, Ortigas, Mandaluyong City, Mandal...</td>\n",
       "      <td>121.057508</td>\n",
       "      <td>14.584450</td>\n",
       "      <td>Japanese, Korean</td>\n",
       "      <td>...</td>\n",
       "      <td>Botswana Pula(P)</td>\n",
       "      <td>Yes</td>\n",
       "      <td>No</td>\n",
       "      <td>No</td>\n",
       "      <td>No</td>\n",
       "      <td>4</td>\n",
       "      <td>4.8</td>\n",
       "      <td>Dark Green</td>\n",
       "      <td>Excellent</td>\n",
       "      <td>229</td>\n",
       "    </tr>\n",
       "  </tbody>\n",
       "</table>\n",
       "<p>5 rows × 21 columns</p>\n",
       "</div>"
      ],
      "text/plain": [
       "   Restaurant ID         Restaurant Name  Country Code              City  \\\n",
       "0        6317637        Le Petit Souffle           162       Makati City   \n",
       "1        6304287        Izakaya Kikufuji           162       Makati City   \n",
       "2        6300002  Heat - Edsa Shangri-La           162  Mandaluyong City   \n",
       "3        6318506                    Ooma           162  Mandaluyong City   \n",
       "4        6314302             Sambo Kojin           162  Mandaluyong City   \n",
       "\n",
       "                                             Address  \\\n",
       "0  Third Floor, Century City Mall, Kalayaan Avenu...   \n",
       "1  Little Tokyo, 2277 Chino Roces Avenue, Legaspi...   \n",
       "2  Edsa Shangri-La, 1 Garden Way, Ortigas, Mandal...   \n",
       "3  Third Floor, Mega Fashion Hall, SM Megamall, O...   \n",
       "4  Third Floor, Mega Atrium, SM Megamall, Ortigas...   \n",
       "\n",
       "                                     Locality  \\\n",
       "0   Century City Mall, Poblacion, Makati City   \n",
       "1  Little Tokyo, Legaspi Village, Makati City   \n",
       "2  Edsa Shangri-La, Ortigas, Mandaluyong City   \n",
       "3      SM Megamall, Ortigas, Mandaluyong City   \n",
       "4      SM Megamall, Ortigas, Mandaluyong City   \n",
       "\n",
       "                                    Locality Verbose   Longitude   Latitude  \\\n",
       "0  Century City Mall, Poblacion, Makati City, Mak...  121.027535  14.565443   \n",
       "1  Little Tokyo, Legaspi Village, Makati City, Ma...  121.014101  14.553708   \n",
       "2  Edsa Shangri-La, Ortigas, Mandaluyong City, Ma...  121.056831  14.581404   \n",
       "3  SM Megamall, Ortigas, Mandaluyong City, Mandal...  121.056475  14.585318   \n",
       "4  SM Megamall, Ortigas, Mandaluyong City, Mandal...  121.057508  14.584450   \n",
       "\n",
       "                           Cuisines  ...          Currency Has Table booking  \\\n",
       "0        French, Japanese, Desserts  ...  Botswana Pula(P)               Yes   \n",
       "1                          Japanese  ...  Botswana Pula(P)               Yes   \n",
       "2  Seafood, Asian, Filipino, Indian  ...  Botswana Pula(P)               Yes   \n",
       "3                   Japanese, Sushi  ...  Botswana Pula(P)                No   \n",
       "4                  Japanese, Korean  ...  Botswana Pula(P)               Yes   \n",
       "\n",
       "  Has Online delivery Is delivering now Switch to order menu Price range  \\\n",
       "0                  No                No                   No           3   \n",
       "1                  No                No                   No           3   \n",
       "2                  No                No                   No           4   \n",
       "3                  No                No                   No           4   \n",
       "4                  No                No                   No           4   \n",
       "\n",
       "   Aggregate rating  Rating color Rating text Votes  \n",
       "0               4.8    Dark Green   Excellent   314  \n",
       "1               4.5    Dark Green   Excellent   591  \n",
       "2               4.4         Green   Very Good   270  \n",
       "3               4.9    Dark Green   Excellent   365  \n",
       "4               4.8    Dark Green   Excellent   229  \n",
       "\n",
       "[5 rows x 21 columns]"
      ]
     },
     "execution_count": 48,
     "metadata": {},
     "output_type": "execute_result"
    }
   ],
   "source": [
    "df=pd.read_csv(\"Dataset1 .csv\")\n",
    "df.head()"
   ]
  },
  {
   "cell_type": "markdown",
   "id": "06ec37df-ad01-4279-83d6-05269a70a16e",
   "metadata": {},
   "source": [
    "                                                Task 1: Restaurant Reviews"
   ]
  },
  {
   "cell_type": "code",
   "execution_count": 49,
   "id": "bf91b1e3-69de-4b78-9844-8b82e195c6d6",
   "metadata": {},
   "outputs": [
    {
     "name": "stdout",
     "output_type": "stream",
     "text": [
      "<class 'pandas.core.frame.DataFrame'>\n",
      "RangeIndex: 9551 entries, 0 to 9550\n",
      "Data columns (total 21 columns):\n",
      " #   Column                Non-Null Count  Dtype  \n",
      "---  ------                --------------  -----  \n",
      " 0   Restaurant ID         9551 non-null   int64  \n",
      " 1   Restaurant Name       9551 non-null   object \n",
      " 2   Country Code          9551 non-null   int64  \n",
      " 3   City                  9551 non-null   object \n",
      " 4   Address               9551 non-null   object \n",
      " 5   Locality              9551 non-null   object \n",
      " 6   Locality Verbose      9551 non-null   object \n",
      " 7   Longitude             9551 non-null   float64\n",
      " 8   Latitude              9551 non-null   float64\n",
      " 9   Cuisines              9551 non-null   object \n",
      " 10  Average Cost for two  9551 non-null   int64  \n",
      " 11  Currency              9551 non-null   object \n",
      " 12  Has Table booking     9551 non-null   object \n",
      " 13  Has Online delivery   9551 non-null   object \n",
      " 14  Is delivering now     9551 non-null   object \n",
      " 15  Switch to order menu  9551 non-null   object \n",
      " 16  Price range           9551 non-null   int64  \n",
      " 17  Aggregate rating      9551 non-null   float64\n",
      " 18  Rating color          9551 non-null   object \n",
      " 19  Rating text           9551 non-null   object \n",
      " 20  Votes                 9551 non-null   int64  \n",
      "dtypes: float64(3), int64(5), object(13)\n",
      "memory usage: 1.5+ MB\n",
      "None\n",
      "Restaurant ID           0\n",
      "Restaurant Name         0\n",
      "Country Code            0\n",
      "City                    0\n",
      "Address                 0\n",
      "Locality                0\n",
      "Locality Verbose        0\n",
      "Longitude               0\n",
      "Latitude                0\n",
      "Cuisines                0\n",
      "Average Cost for two    0\n",
      "Currency                0\n",
      "Has Table booking       0\n",
      "Has Online delivery     0\n",
      "Is delivering now       0\n",
      "Switch to order menu    0\n",
      "Price range             0\n",
      "Aggregate rating        0\n",
      "Rating color            0\n",
      "Rating text             0\n",
      "Votes                   0\n",
      "dtype: int64\n"
     ]
    }
   ],
   "source": [
    "print(df.info())\n",
    "print(df.isnull().sum())"
   ]
  },
  {
   "cell_type": "code",
   "execution_count": 60,
   "id": "61ee60ed-152b-413d-8046-034d4a4c0be3",
   "metadata": {},
   "outputs": [],
   "source": [
    "import nltk\n",
    "from nltk.corpus import stopwords\n",
    "from nltk.tokenize import word_tokenize\n",
    "import string"
   ]
  },
  {
   "cell_type": "code",
   "execution_count": 95,
   "id": "a516ede1-a2ae-46f0-a714-44d4a1257576",
   "metadata": {},
   "outputs": [
    {
     "name": "stderr",
     "output_type": "stream",
     "text": [
      "[nltk_data] Downloading package punkt to\n",
      "[nltk_data]     C:\\Users\\rglra\\AppData\\Roaming\\nltk_data...\n",
      "[nltk_data]   Package punkt is already up-to-date!\n",
      "[nltk_data] Downloading package stopwords to\n",
      "[nltk_data]     C:\\Users\\rglra\\AppData\\Roaming\\nltk_data...\n",
      "[nltk_data]   Package stopwords is already up-to-date!\n",
      "[nltk_data] Downloading package vader_lexicon to\n",
      "[nltk_data]     C:\\Users\\rglra\\AppData\\Roaming\\nltk_data...\n",
      "[nltk_data]   Package vader_lexicon is already up-to-date!\n"
     ]
    }
   ],
   "source": [
    "nltk.download('punkt')\n",
    "nltk.download('stopwords')\n",
    "nltk.download('vader_lexicon')\n",
    "\n",
    "def preprocess_text(text):\n",
    "    tokens=word_tokenize(text.lower())\n",
    "    tokens=[word for word in tokens if word.isalpha() and word not in stopwords.words('english')]\n",
    "    return tokens"
   ]
  },
  {
   "cell_type": "code",
   "execution_count": 97,
   "id": "59136c33-80a7-4d2e-88a4-7223885919c2",
   "metadata": {},
   "outputs": [],
   "source": [
    "df['processed_reviews']=df['Rating text'].dropna().apply(preprocess_text)"
   ]
  },
  {
   "cell_type": "code",
   "execution_count": 98,
   "id": "3d0e495a-61cd-48c9-8dcb-0d1f2026e7c9",
   "metadata": {},
   "outputs": [
    {
     "name": "stderr",
     "output_type": "stream",
     "text": [
      "[nltk_data] Downloading package vader_lexicon to\n",
      "[nltk_data]     C:\\Users\\rglra\\AppData\\Roaming\\nltk_data...\n",
      "[nltk_data]   Package vader_lexicon is already up-to-date!\n"
     ]
    }
   ],
   "source": [
    "from nltk.sentiment.vader import SentimentIntensityAnalyzer\n",
    "from collections import Counter\n",
    "nltk.download('vader_lexicon')\n",
    "sia=SentimentIntensityAnalyzer()\n",
    "all_tokens=[token for sublist in df['processed_reviews'] for token in sublist]\n",
    "token_counts=Counter(all_tokens)"
   ]
  },
  {
   "cell_type": "code",
   "execution_count": 99,
   "id": "d43556b4-6b7d-4f94-84a4-dc46df33527f",
   "metadata": {},
   "outputs": [],
   "source": [
    "positive_words=[word for word,count in token_counts.items() if sia.polarity_scores(word)['compound']>0.5]\n",
    "negative_words=[word for word,count in token_counts.items() if sia.polarity_scores(word)['compound']<-0.5]"
   ]
  },
  {
   "cell_type": "code",
   "execution_count": 100,
   "id": "7653e016-3162-43cf-8987-41e0910fb528",
   "metadata": {},
   "outputs": [
    {
     "name": "stdout",
     "output_type": "stream",
     "text": [
      "Most Common Positive Words: [('excellent', 1)]\n",
      "Most Common Negative Words: []\n"
     ]
    }
   ],
   "source": [
    "most_common_positive=Counter(positive_words).most_common(10)\n",
    "most_common_negative=Counter(negative_words).most_common(10)\n",
    "print(\"Most Common Positive Words:\",most_common_positive)\n",
    "print(\"Most Common Negative Words:\",most_common_negative)"
   ]
  },
  {
   "cell_type": "code",
   "execution_count": 101,
   "id": "7ccd0e99-0d17-45cc-9bc2-3b06f581d374",
   "metadata": {},
   "outputs": [
    {
     "name": "stdout",
     "output_type": "stream",
     "text": [
      "Average Rating Length: 1.3378703800649148\n"
     ]
    }
   ],
   "source": [
    "df['rating length']=df['Rating text'].dropna().apply(lambda x: len(x.split()))\n",
    "average_rating_length=df['rating length'].mean()\n",
    "print(\"Average Rating Length:\",average_rating_length)"
   ]
  },
  {
   "cell_type": "code",
   "execution_count": 102,
   "id": "f8761795-b5bf-49a5-974c-4f818281d237",
   "metadata": {},
   "outputs": [],
   "source": [
    "import matplotlib.pyplot as plt\n",
    "import seaborn as sns"
   ]
  },
  {
   "cell_type": "code",
   "execution_count": 103,
   "id": "de84de43-8239-4273-84f8-07b414760876",
   "metadata": {},
   "outputs": [],
   "source": [
    "df=df.dropna(subset=['Rating text','rating length'])"
   ]
  },
  {
   "cell_type": "code",
   "execution_count": 104,
   "id": "b4ff4061-caa9-41bf-b37f-a1317d3fd6c4",
   "metadata": {},
   "outputs": [
    {
     "data": {
      "image/png": "[encoded data removed]",
      "text/plain": [
       "<Figure size 1000x600 with 1 Axes>"
      ]
     },
     "metadata": {},
     "output_type": "display_data"
    }
   ],
   "source": [
    "plt.figure(figsize=(10,6))\n",
    "sns.boxplot(x='Rating text',y='rating length',data=df)\n",
    "plt.title('Rating Length vs Rating text')\n",
    "plt.xlabel('Rating text')\n",
    "plt.ylabel('Rating length')\n",
    "plt.show()"
   ]
  },
  {
   "cell_type": "markdown",
   "id": "4c5b8640-a64a-4e4a-8e13-f7458519964a",
   "metadata": {},
   "source": [
    "                                                   Task 2: Votes Analysis"
   ]
  },
  {
   "cell_type": "code",
   "execution_count": 105,
   "id": "3f560499-478c-44e5-b9ab-f3f7a6e87cbe",
   "metadata": {},
   "outputs": [
    {
     "name": "stdout",
     "output_type": "stream",
     "text": [
      "Index(['Restaurant ID', 'Restaurant Name', 'Country Code', 'City', 'Address',\n",
      "       'Locality', 'Locality Verbose', 'Longitude', 'Latitude', 'Cuisines',\n",
      "       'Average Cost for two', 'Currency', 'Has Table booking',\n",
      "       'Has Online delivery', 'Is delivering now', 'Switch to order menu',\n",
      "       'Price range', 'Aggregate rating', 'Rating color', 'Rating text',\n",
      "       'Votes', 'processed_reviews', 'rating length'],\n",
      "      dtype='object')\n"
     ]
    }
   ],
   "source": [
    "print(df.columns)"
   ]
  },
  {
   "cell_type": "code",
   "execution_count": 106,
   "id": "39170160-0cd9-4493-85da-f5d307cd007a",
   "metadata": {},
   "outputs": [],
   "source": [
    "highest_votes=df.loc[df['Votes'].idxmax()]\n",
    "lowest_votes=df.loc[df['Votes'].idxmin()]"
   ]
  },
  {
   "cell_type": "code",
   "execution_count": 107,
   "id": "a7212688-ce2c-4fdb-8b16-1a55b6ee57d2",
   "metadata": {},
   "outputs": [
    {
     "name": "stdout",
     "output_type": "stream",
     "text": [
      "Restaurant with the highest number of votes: Restaurant ID                                                       51705\n",
      "Restaurant Name                                                      Toit\n",
      "Country Code                                                            1\n",
      "City                                                            Bangalore\n",
      "Address                 298, Namma Metro Pillar 62, 100 Feet Road, Ind...\n",
      "Locality                                                      Indiranagar\n",
      "Locality Verbose                                   Indiranagar, Bangalore\n",
      "Longitude                                                       77.640709\n",
      "Latitude                                                        12.979166\n",
      "Cuisines                                         Italian, American, Pizza\n",
      "Average Cost for two                                                 2000\n",
      "Currency                                               Indian Rupees(Rs.)\n",
      "Has Table booking                                                      No\n",
      "Has Online delivery                                                    No\n",
      "Is delivering now                                                      No\n",
      "Switch to order menu                                                   No\n",
      "Price range                                                             4\n",
      "Aggregate rating                                                      4.8\n",
      "Rating color                                                   Dark Green\n",
      "Rating text                                                     Excellent\n",
      "Votes                                                               10934\n",
      "processed_reviews                                             [excellent]\n",
      "rating length                                                           1\n",
      "Name: 728, dtype: object\n"
     ]
    }
   ],
   "source": [
    "print(\"Restaurant with the highest number of votes:\",highest_votes)"
   ]
  },
  {
   "cell_type": "code",
   "execution_count": 108,
   "id": "7406a7a2-a2fd-40f0-9ee2-73971c924041",
   "metadata": {},
   "outputs": [
    {
     "name": "stdout",
     "output_type": "stream",
     "text": [
      "Restaurant with the lowest number of votes: Restaurant ID                                                     6710645\n",
      "Restaurant Name                                          Cantinho da Gula\n",
      "Country Code                                                           30\n",
      "City                                                           S��o Paulo\n",
      "Address                 Rua Pedroso Alvarenga, 522, Itaim Bibi, S��o P...\n",
      "Locality                                                       Itaim Bibi\n",
      "Locality Verbose                                   Itaim Bibi, S��o Paulo\n",
      "Longitude                                                      -46.675667\n",
      "Latitude                                                          -23.581\n",
      "Cuisines                                                        Brazilian\n",
      "Average Cost for two                                                   55\n",
      "Currency                                               Brazilian Real(R$)\n",
      "Has Table booking                                                      No\n",
      "Has Online delivery                                                    No\n",
      "Is delivering now                                                      No\n",
      "Switch to order menu                                                   No\n",
      "Price range                                                             2\n",
      "Aggregate rating                                                      0.0\n",
      "Rating color                                                        White\n",
      "Rating text                                                     Not rated\n",
      "Votes                                                                   0\n",
      "processed_reviews                                                 [rated]\n",
      "rating length                                                           2\n",
      "Name: 69, dtype: object\n"
     ]
    }
   ],
   "source": [
    "print(\"Restaurant with the lowest number of votes:\",lowest_votes)"
   ]
  },
  {
   "cell_type": "code",
   "execution_count": 109,
   "id": "e9f9d45d-d714-46c5-bcf3-766de50c789e",
   "metadata": {},
   "outputs": [],
   "source": [
    "import matplotlib.pyplot as plt\n",
    "import seaborn as sns"
   ]
  },
  {
   "cell_type": "code",
   "execution_count": 110,
   "id": "1c383af9-3bcc-41ad-a1c8-76f13af41f0d",
   "metadata": {},
   "outputs": [
    {
     "data": {
      "image/png": "[encoded data removed]",
      "text/plain": [
       "<Figure size 1000x600 with 1 Axes>"
      ]
     },
     "metadata": {},
     "output_type": "display_data"
    }
   ],
   "source": [
    "plt.figure(figsize=(10,6))\n",
    "sns.scatterplot(x='Votes',y='Aggregate rating',data=df)\n",
    "plt.title('Correlation Between Number of Votes and Rating')\n",
    "plt.xlabel('Number of Votes')\n",
    "plt.ylabel('Rating')\n",
    "plt.show()"
   ]
  },
  {
   "cell_type": "code",
   "execution_count": 112,
   "id": "91820e3f-a68b-4a22-90ed-3d2d6438ee32",
   "metadata": {},
   "outputs": [
    {
     "name": "stdout",
     "output_type": "stream",
     "text": [
      "correlation coefficient between number of votes and rating: 0.31369058419541135\n"
     ]
    }
   ],
   "source": [
    "correlation=df['Votes'].corr(df['Aggregate rating'])\n",
    "print(\"correlation coefficient between number of votes and rating:\",correlation)"
   ]
  },
  {
   "cell_type": "markdown",
   "id": "9ec52b9f-6f52-445c-8acd-dbc4a9e5fa49",
   "metadata": {},
   "source": [
    "                                 Task 3: Price Range vs. Online Delivery and Table Booking"
   ]
  },
  {
   "cell_type": "code",
   "execution_count": 139,
   "id": "26deab70-21cc-4b6b-aa90-9d81a2c18bc1",
   "metadata": {},
   "outputs": [],
   "source": [
    "price_column='Price range'\n",
    "online_delivery_column ='Has Online delivery'\n",
    "table_booking_column ='Has Table booking'\n",
    "\n",
    "df[online_delivery_column]=df[online_delivery_column].apply(lambda x: 1 if str(x).lower()=='yes' else 0)\n",
    "df[table_booking_column]=df[table_booking_column].apply(lambda x: 1 if str(x).lower()=='yes' else 0)"
   ]
  },
  {
   "cell_type": "code",
   "execution_count": 145,
   "id": "01ba25e0-4f8d-42e7-8e49-c3e1fc25e0a6",
   "metadata": {},
   "outputs": [
    {
     "name": "stdout",
     "output_type": "stream",
     "text": [
      "Analysis of Online Delivery and Table Booking by Price Range \n",
      "\n",
      "             Has Online delivery  Has Table booking\n",
      "Price range                                        \n",
      "1                            0.0                0.0\n",
      "2                            0.0                0.0\n",
      "3                            0.0                0.0\n",
      "4                            0.0                0.0\n"
     ]
    }
   ],
   "source": [
    "price_analysis=df.groupby(price_column)[[online_delivery_column,table_booking_column]].mean()\n",
    "print(\"Analysis of Online Delivery and Table Booking by Price Range \\n\")\n",
    "print(price_analysis)"
   ]
  },
  {
   "cell_type": "code",
   "execution_count": 142,
   "id": "2e6c9472-e725-4cff-8725-8e3c0d59f780",
   "metadata": {},
   "outputs": [
    {
     "data": {
      "image/png": "[encoded data removed]",
      "text/plain": [
       "<Figure size 1200x600 with 2 Axes>"
      ]
     },
     "metadata": {},
     "output_type": "display_data"
    },
    {
     "name": "stdout",
     "output_type": "stream",
     "text": [
      "Correlation coefficient between price range and online delivery: nan\n",
      "Correlation coefficient between price range and table booking: nan\n"
     ]
    },
    {
     "name": "stderr",
     "output_type": "stream",
     "text": [
      "C:\\Users\\rglra\\AppData\\Local\\Programs\\Python\\Python312\\Lib\\site-packages\\numpy\\lib\\function_base.py:2897: RuntimeWarning: invalid value encountered in divide\n",
      "  c /= stddev[:, None]\n",
      "C:\\Users\\rglra\\AppData\\Local\\Programs\\Python\\Python312\\Lib\\site-packages\\numpy\\lib\\function_base.py:2898: RuntimeWarning: invalid value encountered in divide\n",
      "  c /= stddev[None, :]\n"
     ]
    }
   ],
   "source": [
    "import matplotlib.pyplot as plt\n",
    "import seaborn as sns\n",
    "\n",
    "# Plot the relationship between price range and availability of services\n",
    "plt.figure(figsize=(12, 6))\n",
    "\n",
    "# Online Delivery\n",
    "plt.subplot(1, 2, 1)\n",
    "sns.barplot(x=price_analysis.index, y=price_analysis[online_delivery_column])\n",
    "plt.title('Online Delivery Availability by Price Range')\n",
    "plt.xlabel('Price Range')\n",
    "plt.ylabel('Average Availability of Online Delivery')\n",
    "\n",
    "# Table Booking\n",
    "plt.subplot(1, 2, 2)\n",
    "sns.barplot(x=price_analysis.index, y=price_analysis[table_booking_column])\n",
    "plt.title('Table Booking Availability by Price Range')\n",
    "plt.xlabel('Price Range')\n",
    "plt.ylabel('Average Availability of Table Booking')\n",
    "\n",
    "plt.tight_layout()\n",
    "plt.show()\n",
    "\n",
    "# Calculate correlation coefficients\n",
    "corr_online_delivery = df[price_column].corr(df[online_delivery_column])\n",
    "corr_table_booking = df[price_column].corr(df[table_booking_column])\n",
    "\n",
    "print(\"Correlation coefficient between price range and online delivery:\", corr_online_delivery)\n",
    "print(\"Correlation coefficient between price range and table booking:\", corr_table_booking)\n"
   ]
  }
 ],
 "metadata": {
  "kernelspec": {
   "display_name": "Python 3 (ipykernel)",
   "language": "python",
   "name": "python3"
  },
  "language_info": {
   "codemirror_mode": {
    "name": "ipython",
    "version": 3
   },
   "file_extension": ".py",
   "mimetype": "text/x-python",
   "name": "python",
   "nbconvert_exporter": "python",
   "pygments_lexer": "ipython3",
   "version": "3.12.2"
  }
 },
 "nbformat": 4,
 "nbformat_minor": 5
}
